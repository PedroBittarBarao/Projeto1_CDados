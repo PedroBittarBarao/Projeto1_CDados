{
 "cells": [
  {
   "cell_type": "markdown",
   "source": [
    "# Projeto 1 - Ciência dos Dados"
   ],
   "metadata": {}
  },
  {
   "cell_type": "markdown",
   "source": [
    "Nome: Pedro Barão\r\n",
    "\r\n",
    "Nome: Rafael Paolino"
   ],
   "metadata": {}
  },
  {
   "cell_type": "markdown",
   "source": [
    "___\r\n",
    "Carregando algumas bibliotecas:"
   ],
   "metadata": {}
  },
  {
   "cell_type": "code",
   "execution_count": 133,
   "source": [
    "%matplotlib inline\r\n",
    "import pandas as pd\r\n",
    "import matplotlib.pyplot as plt\r\n",
    "import numpy as np\r\n",
    "import os"
   ],
   "outputs": [],
   "metadata": {}
  },
  {
   "cell_type": "code",
   "execution_count": 134,
   "source": [
    "print('Esperamos trabalhar no diretório')\r\n",
    "print(os.getcwd())"
   ],
   "outputs": [
    {
     "output_type": "stream",
     "name": "stdout",
     "text": [
      "Esperamos trabalhar no diretório\n",
      "d:\\Insper\\Ciência dos Dados\\Projeto1_CDados\n"
     ]
    }
   ],
   "metadata": {
    "scrolled": false
   }
  },
  {
   "cell_type": "markdown",
   "source": [
    "Carregando a base de dados com os tweets classificados como relevantes e não relevantes:"
   ],
   "metadata": {}
  },
  {
   "cell_type": "code",
   "execution_count": 135,
   "source": [
    "filename = 'PlayStation 5.xlsx'"
   ],
   "outputs": [],
   "metadata": {}
  },
  {
   "cell_type": "code",
   "execution_count": 136,
   "source": [
    "train = pd.read_excel(filename)\r\n",
    "train.head(5)"
   ],
   "outputs": [
    {
     "output_type": "execute_result",
     "data": {
      "text/html": [
       "<div>\n",
       "<style scoped>\n",
       "    .dataframe tbody tr th:only-of-type {\n",
       "        vertical-align: middle;\n",
       "    }\n",
       "\n",
       "    .dataframe tbody tr th {\n",
       "        vertical-align: top;\n",
       "    }\n",
       "\n",
       "    .dataframe thead th {\n",
       "        text-align: right;\n",
       "    }\n",
       "</style>\n",
       "<table border=\"1\" class=\"dataframe\">\n",
       "  <thead>\n",
       "    <tr style=\"text-align: right;\">\n",
       "      <th></th>\n",
       "      <th>Treinamento</th>\n",
       "      <th>Relevante</th>\n",
       "    </tr>\n",
       "  </thead>\n",
       "  <tbody>\n",
       "    <tr>\n",
       "      <th>0</th>\n",
       "      <td>olá querido felipe neto, gostaria de pedir um...</td>\n",
       "      <td>1</td>\n",
       "    </tr>\n",
       "    <tr>\n",
       "      <th>1</th>\n",
       "      <td>playstation 5 ou xbox séries x — os dois na mi...</td>\n",
       "      <td>1</td>\n",
       "    </tr>\n",
       "    <tr>\n",
       "      <th>2</th>\n",
       "      <td>playstation 5\\nxbox series s\\ne diversos produ...</td>\n",
       "      <td>1</td>\n",
       "    </tr>\n",
       "    <tr>\n",
       "      <th>3</th>\n",
       "      <td>eu quero comprar um playstation 5 e um iphone ...</td>\n",
       "      <td>1</td>\n",
       "    </tr>\n",
       "    <tr>\n",
       "      <th>4</th>\n",
       "      <td>@kgluquinhas2 @banjoboox sem graça, e eu tenho...</td>\n",
       "      <td>1</td>\n",
       "    </tr>\n",
       "  </tbody>\n",
       "</table>\n",
       "</div>"
      ],
      "text/plain": [
       "                                         Treinamento  Relevante\n",
       "0   olá querido felipe neto, gostaria de pedir um...          1\n",
       "1  playstation 5 ou xbox séries x — os dois na mi...          1\n",
       "2  playstation 5\\nxbox series s\\ne diversos produ...          1\n",
       "3  eu quero comprar um playstation 5 e um iphone ...          1\n",
       "4  @kgluquinhas2 @banjoboox sem graça, e eu tenho...          1"
      ]
     },
     "metadata": {},
     "execution_count": 136
    }
   ],
   "metadata": {}
  },
  {
   "cell_type": "code",
   "execution_count": 137,
   "source": [
    "test = pd.read_excel(filename, sheet_name = 'Teste')\r\n",
    "test.head(5)"
   ],
   "outputs": [
    {
     "output_type": "execute_result",
     "data": {
      "text/html": [
       "<div>\n",
       "<style scoped>\n",
       "    .dataframe tbody tr th:only-of-type {\n",
       "        vertical-align: middle;\n",
       "    }\n",
       "\n",
       "    .dataframe tbody tr th {\n",
       "        vertical-align: top;\n",
       "    }\n",
       "\n",
       "    .dataframe thead th {\n",
       "        text-align: right;\n",
       "    }\n",
       "</style>\n",
       "<table border=\"1\" class=\"dataframe\">\n",
       "  <thead>\n",
       "    <tr style=\"text-align: right;\">\n",
       "      <th></th>\n",
       "      <th>Teste</th>\n",
       "      <th>Relevante</th>\n",
       "    </tr>\n",
       "  </thead>\n",
       "  <tbody>\n",
       "    <tr>\n",
       "      <th>0</th>\n",
       "      <td>‼️ofertasbfn‼️\\n\\n🎮🎮console playstation 5 sony...</td>\n",
       "      <td>1</td>\n",
       "    </tr>\n",
       "    <tr>\n",
       "      <th>1</th>\n",
       "      <td>#setuplockgamer\\n\\nfala lock, beleza?\\n\\n\"cons...</td>\n",
       "      <td>0</td>\n",
       "    </tr>\n",
       "    <tr>\n",
       "      <th>2</th>\n",
       "      <td>ainda não entendi essa revolta toda com os pre...</td>\n",
       "      <td>0</td>\n",
       "    </tr>\n",
       "    <tr>\n",
       "      <th>3</th>\n",
       "      <td>confira minha transmissão do meu playstation 4...</td>\n",
       "      <td>1</td>\n",
       "    </tr>\n",
       "    <tr>\n",
       "      <th>4</th>\n",
       "      <td>minha mãe vai me dar o playstation 5 eu nem ac...</td>\n",
       "      <td>1</td>\n",
       "    </tr>\n",
       "  </tbody>\n",
       "</table>\n",
       "</div>"
      ],
      "text/plain": [
       "                                               Teste  Relevante\n",
       "0  ‼️ofertasbfn‼️\\n\\n🎮🎮console playstation 5 sony...          1\n",
       "1  #setuplockgamer\\n\\nfala lock, beleza?\\n\\n\"cons...          0\n",
       "2  ainda não entendi essa revolta toda com os pre...          0\n",
       "3  confira minha transmissão do meu playstation 4...          1\n",
       "4  minha mãe vai me dar o playstation 5 eu nem ac...          1"
      ]
     },
     "metadata": {},
     "execution_count": 137
    }
   ],
   "metadata": {}
  },
  {
   "cell_type": "markdown",
   "source": [
    "___\n",
    "## Classificador automático de sentimento\n"
   ],
   "metadata": {}
  },
  {
   "cell_type": "markdown",
   "source": [
    "Faça aqui uma descrição do seu produto e o que considerou como relevante ou não relevante na classificação dos tweets.\r\n",
    "\r\n",
    " #### Console de videogames Playstation 5\r\n",
    " #### Foram considerados relevantes tweets que abordavam diretamente o console ou jogos e periféricos compatíveis apenas com ele."
   ],
   "metadata": {}
  },
  {
   "cell_type": "markdown",
   "source": [
    "___\n",
    "### Montando um Classificador Naive-Bayes\n",
    "\n",
    "Considerando apenas as mensagens da planilha Treinamento, ensine  seu classificador."
   ],
   "metadata": {}
  },
  {
   "cell_type": "code",
   "execution_count": 138,
   "source": [
    "import re \r\n",
    "\r\n",
    "\r\n",
    "def cleanup(text):\r\n",
    "    \r\n",
    "    punctuation = '[!-.:?;]' # — \r\n",
    "    pattern = re.compile(punctuation)\r\n",
    "    text_subbed = re.sub(pattern, '', text)\r\n",
    "    return text_subbed"
   ],
   "outputs": [],
   "metadata": {}
  },
  {
   "cell_type": "code",
   "execution_count": 139,
   "source": [
    "tweets_total = []\r\n",
    "\r\n",
    "for i in range(0,len(train)):\r\n",
    "\r\n",
    "    tweet=train.iloc[i,0]\r\n",
    "    tweet=cleanup(tweet)\r\n",
    "    tweet=tweet.split()\r\n",
    "    for palavra in tweet:\r\n",
    "\r\n",
    "        tweets_total.append(palavra)\r\n",
    "\r\n",
    "tweets_total_series = pd.Series(tweets_total)\r\n",
    "\r\n",
    "tabela_relativa_tweets_total=tweets_total_series.value_counts(normalize=True)\r\n",
    "\r\n"
   ],
   "outputs": [],
   "metadata": {}
  },
  {
   "cell_type": "code",
   "execution_count": 140,
   "source": [
    "relevantes=train.loc[train.Relevante==1,:]\r\n",
    "tweets_relevantes = []\r\n",
    "\r\n",
    "for i in range(0,len(relevantes)):\r\n",
    "\r\n",
    "    tweet=relevantes.iloc[i,0]\r\n",
    "    tweet=cleanup(tweet)\r\n",
    "    tweet=tweet.split()\r\n",
    "    for palavra in tweet:\r\n",
    "        tweets_relevantes.append(palavra)\r\n",
    "\r\n",
    "tabela_relativa_tweets_relevantes= pd.Series(tweets_relevantes).value_counts(normalize=True)\r\n",
    "tabela_absoluta_tweets_relevantes= pd.Series(tweets_relevantes).value_counts(normalize=False)"
   ],
   "outputs": [],
   "metadata": {}
  },
  {
   "cell_type": "code",
   "execution_count": 141,
   "source": [
    "irrelevantes=train.loc[train.Relevante==0,:]\r\n",
    "tweets_irrelevantes = []\r\n",
    "\r\n",
    "for i in range(0,len(irrelevantes)):\r\n",
    "\r\n",
    "    tweet=irrelevantes.iloc[i,0]\r\n",
    "    tweet=cleanup(tweet)\r\n",
    "    tweet=tweet.split()\r\n",
    "    for palavra in tweet:\r\n",
    "        tweets_irrelevantes.append(palavra)\r\n",
    "\r\n",
    "tabela_relativa_tweets_irrelevantes= pd.Series(tweets_irrelevantes).value_counts(normalize=True)\r\n",
    "tabela_absoluta_tweets_irrelevantes= pd.Series(tweets_irrelevantes).value_counts(normalize=False)"
   ],
   "outputs": [],
   "metadata": {}
  },
  {
   "cell_type": "code",
   "execution_count": 142,
   "source": [
    "numero_de_tweets = train.loc[:,'Treinamento'].size\r\n",
    "\r\n",
    "numero_de_relevantes=train.loc[train.Relevante==1,'Relevante'].size\r\n",
    "numero_de_irrelevantes=train.loc[train.Relevante==0,'Relevante'].size\r\n",
    "\r\n",
    "Prob_relev = numero_de_relevantes/numero_de_tweets\r\n",
    "Prob_relevc = numero_de_irrelevantes/numero_de_tweets\r\n",
    "\r\n"
   ],
   "outputs": [],
   "metadata": {}
  },
  {
   "cell_type": "code",
   "execution_count": 145,
   "source": [
    "def eh_relevante(tweet,i): # tweet = string\r\n",
    "    try:\r\n",
    "        Prob_tweet_dado_relev = 1\r\n",
    "        Prob_tweet_dado_relevc = 1\r\n",
    "        numero_palavras_possiveis=tabela_relativa_tweets_total.size\r\n",
    "        tweet=cleanup(tweet)\r\n",
    "        tweet=tweet.split()\r\n",
    "\r\n",
    "        for palavra in tweet:\r\n",
    "            try:\r\n",
    "                Prob_tweet_dado_relev *= (tabela_absoluta_tweets_relevantes[palavra]+1)/(numero_palavras_possiveis+tabela_absoluta_tweets_relevantes.size)\r\n",
    "                Prob_tweet_dado_relevc *= (tabela_absoluta_tweets_irrelevantes[palavra]+1)/(numero_palavras_possiveis+tabela_absoluta_tweets_irrelevantes.size)\r\n",
    "            except KeyError:\r\n",
    "                Prob_tweet_dado_relev *= 1/numero_palavras_possiveis\r\n",
    "                Prob_tweet_dado_relevc *= 1/numero_palavras_possiveis\r\n",
    "\r\n",
    "        Prob_relev_dado_tweet= Prob_tweet_dado_relev*Prob_relev\r\n",
    "        Prob_relevc_dado_tweet= Prob_tweet_dado_relevc*Prob_relevc\r\n",
    "\r\n",
    "        if Prob_relev_dado_tweet < Prob_relevc_dado_tweet:\r\n",
    "            return 1\r\n",
    "        else:\r\n",
    "            return 0\r\n",
    "    except:\r\n",
    "        pass\r\n",
    "\r\n",
    "\r\n",
    "result=[]     \r\n",
    "for i in range(0,len(train.iloc[:,0])):\r\n",
    "    result.append(eh_relevante(train.iloc[i,0],i))\r\n",
    "\r\n",
    "\r\n",
    "result_series=pd.Series(result)\r\n",
    "\r\n",
    "train[\"Algorítimo\"]=result_series\r\n",
    "\r\n",
    "acertos=[]\r\n",
    "for i in range(0,len(train.iloc[:,0])):\r\n",
    "    if train.iloc[i,1]==train.iloc[i,2]:\r\n",
    "        acertos.append(\"Sim\")\r\n",
    "    else:\r\n",
    "        acertos.append(\"Não\")\r\n",
    "\r\n",
    "acertos_series=pd.Series(acertos)\r\n",
    "\r\n",
    "train['Certo']=acertos_series\r\n",
    "\r\n",
    "indice_de_acertos=acertos_series.value_counts()[0]/acertos_series.size\r\n",
    "\r\n",
    "indice_de_acertos"
   ],
   "outputs": [
    {
     "output_type": "execute_result",
     "data": {
      "text/plain": [
       "0.9133333333333333"
      ]
     },
     "metadata": {},
     "execution_count": 145
    }
   ],
   "metadata": {}
  },
  {
   "cell_type": "markdown",
   "source": [
    "___\n",
    "### Verificando a performance do Classificador\n",
    "\n",
    "Agora você deve testar o seu classificador com a base de Testes."
   ],
   "metadata": {}
  },
  {
   "cell_type": "code",
   "execution_count": 146,
   "source": [
    "result=[]     \r\n",
    "for i in range(0,len(test.iloc[:,0])):\r\n",
    "    result.append(eh_relevante(test.iloc[i,0],i))\r\n",
    "\r\n",
    "\r\n",
    "result_series=pd.Series(result)\r\n",
    "\r\n",
    "test[\"algorítimo\"]=result_series\r\n",
    "\r\n",
    "acertos=[]\r\n",
    "for i in range(0,len(test.iloc[:,0])):\r\n",
    "    if test.iloc[i,1]==test.iloc[i,2]:\r\n",
    "        acertos.append(\"Sim\")\r\n",
    "    else:\r\n",
    "        acertos.append(\"Não\")\r\n",
    "\r\n",
    "acertos_series=pd.Series(acertos)\r\n",
    "\r\n",
    "test['Certo']=acertos_series\r\n",
    "\r\n",
    "indice_de_acertos=acertos_series.value_counts()[0]/acertos_series.size\r\n",
    "\r\n",
    "indice_de_acertos"
   ],
   "outputs": [
    {
     "output_type": "execute_result",
     "data": {
      "text/plain": [
       "0.5970149253731343"
      ]
     },
     "metadata": {},
     "execution_count": 146
    }
   ],
   "metadata": {}
  },
  {
   "cell_type": "code",
   "execution_count": null,
   "source": [],
   "outputs": [],
   "metadata": {}
  },
  {
   "cell_type": "code",
   "execution_count": null,
   "source": [],
   "outputs": [],
   "metadata": {}
  },
  {
   "cell_type": "markdown",
   "source": [
    "___\n",
    "### Concluindo"
   ],
   "metadata": {}
  },
  {
   "cell_type": "code",
   "execution_count": null,
   "source": [],
   "outputs": [],
   "metadata": {}
  },
  {
   "cell_type": "code",
   "execution_count": null,
   "source": [],
   "outputs": [],
   "metadata": {}
  },
  {
   "cell_type": "code",
   "execution_count": null,
   "source": [],
   "outputs": [],
   "metadata": {}
  },
  {
   "cell_type": "markdown",
   "source": [
    "___\n",
    "### Qualidade do Classificador a partir de novas separações dos tweets entre Treinamento e Teste\n",
    "\n",
    "Caso for fazer esse item do Projeto"
   ],
   "metadata": {}
  },
  {
   "cell_type": "code",
   "execution_count": null,
   "source": [],
   "outputs": [],
   "metadata": {}
  },
  {
   "cell_type": "code",
   "execution_count": null,
   "source": [],
   "outputs": [],
   "metadata": {}
  },
  {
   "cell_type": "code",
   "execution_count": null,
   "source": [],
   "outputs": [],
   "metadata": {}
  },
  {
   "cell_type": "markdown",
   "source": [
    "___\n",
    "## Aperfeiçoamento:\n",
    "\n",
    "Trabalhos que conseguirem pelo menos conceito B vão evoluir em conceito dependendo da quantidade de itens avançados:\n",
    "\n",
    "* IMPLEMENTOU outras limpezas e transformações que não afetem a qualidade da informação contida nos tweets. Ex: stemming, lemmatization, stopwords\n",
    "* CORRIGIU separação de espaços entre palavras e emojis ou entre emojis e emojis\n",
    "* CRIOU categorias intermediárias de relevância baseadas na probabilidade: ex.: muito relevante, relevante, neutro, irrelevante, muito irrelevante. Pelo menos quatro categorias, com adição de mais tweets na base, conforme enunciado. (OBRIGATÓRIO PARA TRIOS, sem contar como item avançado)\n",
    "* EXPLICOU porquê não pode usar o próprio classificador para gerar mais amostras de treinamento\n",
    "* PROPÔS diferentes cenários para Naïve Bayes fora do contexto do projeto\n",
    "* SUGERIU e EXPLICOU melhorias reais com indicações concretas de como implementar (indicar como fazer e indicar material de pesquisa)\n",
    "* FEZ o item 6. Qualidade do Classificador a partir de novas separações dos tweets entre Treinamento e Teste descrito no enunciado do projeto (OBRIGATÓRIO para conceitos A ou A+)"
   ],
   "metadata": {},
   "attachments": {}
  },
  {
   "cell_type": "markdown",
   "source": [
    "___\n",
    "## Referências"
   ],
   "metadata": {}
  },
  {
   "cell_type": "markdown",
   "source": [
    "[Naive Bayes and Text Classification](https://arxiv.org/pdf/1410.5329.pdf)  **Mais completo**\n",
    "\n",
    "[A practical explanation of a Naive Bayes Classifier](https://monkeylearn.com/blog/practical-explanation-naive-bayes-classifier/) **Mais simples**"
   ],
   "metadata": {}
  },
  {
   "cell_type": "code",
   "execution_count": null,
   "source": [],
   "outputs": [],
   "metadata": {}
  }
 ],
 "metadata": {
  "kernelspec": {
   "name": "python3",
   "display_name": "Python 3.8.5 64-bit (conda)"
  },
  "language_info": {
   "codemirror_mode": {
    "name": "ipython",
    "version": 3
   },
   "file_extension": ".py",
   "mimetype": "text/x-python",
   "name": "python",
   "nbconvert_exporter": "python",
   "pygments_lexer": "ipython3",
   "version": "3.8.5"
  },
  "interpreter": {
   "hash": "5f64f01a6cdb813bd23f3c2980301e513b65108ef9650403b1a46775be8a9390"
  }
 },
 "nbformat": 4,
 "nbformat_minor": 4
}