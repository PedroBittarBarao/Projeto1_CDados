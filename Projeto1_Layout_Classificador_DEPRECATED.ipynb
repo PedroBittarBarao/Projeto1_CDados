{
 "cells": [
  {
   "cell_type": "markdown",
   "metadata": {},
   "source": [
    "# Projeto 1 - Ciência dos Dados"
   ]
  },
  {
   "cell_type": "markdown",
   "metadata": {},
   "source": [
    "Nome: _____\n",
    "\n",
    "Nome: _____"
   ]
  },
  {
   "cell_type": "markdown",
   "metadata": {},
   "source": [
    "Atenção: Serão permitidos grupos de três pessoas, mas com uma rubrica mais exigente. Grupos deste tamanho precisarão fazer um questionário de avaliação de trabalho em equipe"
   ]
  },
  {
   "cell_type": "markdown",
   "metadata": {},
   "source": [
    "___\n",
    "Carregando algumas bibliotecas:"
   ]
  },
  {
   "cell_type": "code",
   "execution_count": 40,
   "metadata": {},
   "outputs": [],
   "source": [
    "%matplotlib inline\n",
    "import pandas as pd\n",
    "import matplotlib.pyplot as plt\n",
    "import numpy as np\n",
    "import os"
   ]
  },
  {
   "cell_type": "code",
   "execution_count": 41,
   "metadata": {
    "scrolled": false
   },
   "outputs": [
    {
     "name": "stdout",
     "output_type": "stream",
     "text": [
      "Esperamos trabalhar no diretório\n",
      "C:\\Users\\rafapaolino\\OneDrive - Insper - Institudo de Ensino e Pesquisa\\Ciencia dos Dados\\Projeto1_CDados\n"
     ]
    }
   ],
   "source": [
    "print('Esperamos trabalhar no diretório')\n",
    "print(os.getcwd())"
   ]
  },
  {
   "cell_type": "markdown",
   "metadata": {},
   "source": [
    "Carregando a base de dados com os tweets classificados como relevantes e não relevantes:"
   ]
  },
  {
   "cell_type": "code",
   "execution_count": 42,
   "metadata": {},
   "outputs": [],
   "source": [
    "filename = 'PlayStation 5.xlsx'"
   ]
  },
  {
   "cell_type": "code",
   "execution_count": 43,
   "metadata": {},
   "outputs": [
    {
     "data": {
      "text/html": [
       "<div>\n",
       "<style scoped>\n",
       "    .dataframe tbody tr th:only-of-type {\n",
       "        vertical-align: middle;\n",
       "    }\n",
       "\n",
       "    .dataframe tbody tr th {\n",
       "        vertical-align: top;\n",
       "    }\n",
       "\n",
       "    .dataframe thead th {\n",
       "        text-align: right;\n",
       "    }\n",
       "</style>\n",
       "<table border=\"1\" class=\"dataframe\">\n",
       "  <thead>\n",
       "    <tr style=\"text-align: right;\">\n",
       "      <th></th>\n",
       "      <th>Treinamento</th>\n",
       "      <th>Relevante</th>\n",
       "    </tr>\n",
       "  </thead>\n",
       "  <tbody>\n",
       "    <tr>\n",
       "      <th>0</th>\n",
       "      <td>olá querido felipe neto, gostaria de pedir um...</td>\n",
       "      <td>1</td>\n",
       "    </tr>\n",
       "    <tr>\n",
       "      <th>1</th>\n",
       "      <td>playstation 5 ou xbox séries x — os dois na mi...</td>\n",
       "      <td>1</td>\n",
       "    </tr>\n",
       "    <tr>\n",
       "      <th>2</th>\n",
       "      <td>playstation 5\\nxbox series s\\ne diversos produ...</td>\n",
       "      <td>1</td>\n",
       "    </tr>\n",
       "    <tr>\n",
       "      <th>3</th>\n",
       "      <td>eu quero comprar um playstation 5 e um iphone ...</td>\n",
       "      <td>1</td>\n",
       "    </tr>\n",
       "    <tr>\n",
       "      <th>4</th>\n",
       "      <td>@kgluquinhas2 @banjoboox sem graça, e eu tenho...</td>\n",
       "      <td>1</td>\n",
       "    </tr>\n",
       "  </tbody>\n",
       "</table>\n",
       "</div>"
      ],
      "text/plain": [
       "                                         Treinamento  Relevante\n",
       "0   olá querido felipe neto, gostaria de pedir um...          1\n",
       "1  playstation 5 ou xbox séries x — os dois na mi...          1\n",
       "2  playstation 5\\nxbox series s\\ne diversos produ...          1\n",
       "3  eu quero comprar um playstation 5 e um iphone ...          1\n",
       "4  @kgluquinhas2 @banjoboox sem graça, e eu tenho...          1"
      ]
     },
     "execution_count": 43,
     "metadata": {},
     "output_type": "execute_result"
    }
   ],
   "source": [
    "train = pd.read_excel(filename)\n",
    "train.head(5)"
   ]
  },
  {
   "cell_type": "code",
   "execution_count": 44,
   "metadata": {},
   "outputs": [
    {
     "data": {
      "text/html": [
       "<div>\n",
       "<style scoped>\n",
       "    .dataframe tbody tr th:only-of-type {\n",
       "        vertical-align: middle;\n",
       "    }\n",
       "\n",
       "    .dataframe tbody tr th {\n",
       "        vertical-align: top;\n",
       "    }\n",
       "\n",
       "    .dataframe thead th {\n",
       "        text-align: right;\n",
       "    }\n",
       "</style>\n",
       "<table border=\"1\" class=\"dataframe\">\n",
       "  <thead>\n",
       "    <tr style=\"text-align: right;\">\n",
       "      <th></th>\n",
       "      <th>Teste</th>\n",
       "      <th>Relevante</th>\n",
       "    </tr>\n",
       "  </thead>\n",
       "  <tbody>\n",
       "    <tr>\n",
       "      <th>0</th>\n",
       "      <td>‼️ofertasbfn‼️\\n\\n🎮🎮console playstation 5 sony...</td>\n",
       "      <td>1</td>\n",
       "    </tr>\n",
       "    <tr>\n",
       "      <th>1</th>\n",
       "      <td>#setuplockgamer\\n\\nfala lock, beleza?\\n\\n\"cons...</td>\n",
       "      <td>0</td>\n",
       "    </tr>\n",
       "    <tr>\n",
       "      <th>2</th>\n",
       "      <td>ainda não entendi essa revolta toda com os pre...</td>\n",
       "      <td>0</td>\n",
       "    </tr>\n",
       "    <tr>\n",
       "      <th>3</th>\n",
       "      <td>confira minha transmissão do meu playstation 4...</td>\n",
       "      <td>1</td>\n",
       "    </tr>\n",
       "    <tr>\n",
       "      <th>4</th>\n",
       "      <td>minha mãe vai me dar o playstation 5 eu nem ac...</td>\n",
       "      <td>1</td>\n",
       "    </tr>\n",
       "  </tbody>\n",
       "</table>\n",
       "</div>"
      ],
      "text/plain": [
       "                                               Teste  Relevante\n",
       "0  ‼️ofertasbfn‼️\\n\\n🎮🎮console playstation 5 sony...          1\n",
       "1  #setuplockgamer\\n\\nfala lock, beleza?\\n\\n\"cons...          0\n",
       "2  ainda não entendi essa revolta toda com os pre...          0\n",
       "3  confira minha transmissão do meu playstation 4...          1\n",
       "4  minha mãe vai me dar o playstation 5 eu nem ac...          1"
      ]
     },
     "execution_count": 44,
     "metadata": {},
     "output_type": "execute_result"
    }
   ],
   "source": [
    "test = pd.read_excel(filename, sheet_name = 'Teste')\n",
    "test.head(5)"
   ]
  },
  {
   "cell_type": "markdown",
   "metadata": {},
   "source": [
    "___\n",
    "## Classificador automático de sentimento\n"
   ]
  },
  {
   "cell_type": "markdown",
   "metadata": {},
   "source": [
    "Faça aqui uma descrição do seu produto e o que considerou como relevante ou não relevante na classificação dos tweets.\n",
    "\n",
    "ESCREVA AQUI...\n",
    "\n",
    "Foram considerados como relevantes todas as discussoes sobre o produto, reclamacoes, discussoes sobre acessorios incluidos (como o controle) e ofertas de venda. Nao foram consideradas como relevantes ofertas e discussoes a respeito de acessorios nao incluidos, como jogos."
   ]
  },
  {
   "cell_type": "markdown",
   "metadata": {},
   "source": [
    "___\n",
    "### Montando um Classificador Naive-Bayes\n",
    "\n",
    "Considerando apenas as mensagens da planilha Treinamento, ensine  seu classificador."
   ]
  },
  {
   "cell_type": "code",
   "execution_count": 45,
   "metadata": {},
   "outputs": [
    {
     "name": "stdout",
     "output_type": "stream",
     "text": [
      "playstation              0.050381\n",
      "5                        0.037892\n",
      "o                        0.029001\n",
      "de                       0.024344\n",
      "e                        0.019687\n",
      "                           ...   \n",
      "vermos                   0.000212\n",
      "@wilsonalmeidaa          0.000212\n",
      "https//tco/uvnsaktzkq    0.000212\n",
      "confiram                 0.000212\n",
      "https//tco/b6uvjndful    0.000212\n",
      "Length: 1565, dtype: float64\n",
      " \n",
      " ================ \n",
      " \n",
      "playstation    0.051922\n",
      "gt             0.035401\n",
      "5              0.033378\n",
      "o              0.026298\n",
      "de             0.023264\n",
      "                 ...   \n",
      "nas            0.000337\n",
      "ukulele        0.000337\n",
      "onion          0.000337\n",
      "vermelho       0.000337\n",
      "olha           0.000337\n",
      "Length: 1124, dtype: float64\n"
     ]
    }
   ],
   "source": [
    "relevantes = train.loc[train[\"Relevante\"] == 1, :]\n",
    "irrelevantes = train.loc[train[\"Relevante\"] == 0, :]\n",
    "\n",
    "import re\n",
    "def cleanup(txt):\n",
    "    punctuation = '[!-.:?;]'\n",
    "    pattern = re.compile(punctuation)\n",
    "    text = re.sub(pattern, '', txt)\n",
    "    return text\n",
    "\n",
    "# relevantes\n",
    "\n",
    "tweets_total = []\n",
    "\n",
    "for i in range(0,len(relevantes)):\n",
    "    tweet= relevantes.iloc[i,0]\n",
    "    twt = cleanup(tweet.lower())\n",
    "    twt = twt.split()\n",
    "    for palavra in twt:\n",
    "        tweets_total.append(palavra)\n",
    "\n",
    "tweets_total_series = pd.Series(tweets_total)\n",
    "\n",
    "tabela_relevantes = tweets_total_series.value_counts(True)\n",
    "\n",
    "print(tabela_relevantes)\n",
    "\n",
    "\n",
    "print(' \\n ================ \\n ')\n",
    "\n",
    "\n",
    "# irrelevantes\n",
    "\n",
    "tweets_total = []\n",
    "\n",
    "for i in range(0,len(irrelevantes)):\n",
    "    tweet= irrelevantes.iloc[i,0]\n",
    "    twt = cleanup(tweet.lower())\n",
    "    twt = twt.split()\n",
    "    for palavra in twt:\n",
    "        tweets_total.append(palavra)\n",
    "\n",
    "tweets_total_series = pd.Series(tweets_total)\n",
    "\n",
    "tabela_irrelevantes = tweets_total_series.value_counts(True)\n",
    "\n",
    "print(tabela_irrelevantes)"
   ]
  },
  {
   "cell_type": "code",
   "execution_count": 55,
   "metadata": {
    "scrolled": false
   },
   "outputs": [
    {
     "name": "stdout",
     "output_type": "stream",
     "text": [
      "2.715654860632097e-25\n",
      "1.6497958796834457e-17\n"
     ]
    }
   ],
   "source": [
    "def prob_relevante(tweet):\n",
    "    twt = cleanup(tweet.lower())\n",
    "    twt = twt.split()\n",
    "    p = 1\n",
    "    for x in twt:\n",
    "        if x in tabela_relevantes:\n",
    "            p = p * tabela_relevantes[x]\n",
    "    return p\n",
    "\n",
    "def prob_irrelevante(tweet):\n",
    "    twt = cleanup(tweet.lower())\n",
    "    twt = twt.split()\n",
    "    p = 1\n",
    "    for x in twt:\n",
    "        if x in tabela_irrelevantes:\n",
    "            p = p * tabela_irrelevantes[x]\n",
    "    return p\n",
    "\n",
    "\n",
    "tweet = ''\n",
    "print(prob_relevante(tweet))\n",
    "print(prob_irrelevante(tweet))"
   ]
  },
  {
   "cell_type": "code",
   "execution_count": 52,
   "metadata": {},
   "outputs": [
    {
     "name": "stdout",
     "output_type": "stream",
     "text": [
      "0\n"
     ]
    }
   ],
   "source": [
    "def relevancia(tweet):\n",
    "    if prob_relevante(tweet) > prob_irrelevante(tweet):\n",
    "        return 1\n",
    "    else:\n",
    "        return 0\n",
    "\n",
    "\n",
    "print(relevancia(tweet))"
   ]
  },
  {
   "cell_type": "markdown",
   "metadata": {},
   "source": [
    "___\n",
    "### Verificando a performance do Classificador\n",
    "\n",
    "Agora você deve testar o seu classificador com a base de Testes."
   ]
  },
  {
   "cell_type": "code",
   "execution_count": null,
   "metadata": {},
   "outputs": [],
   "source": []
  },
  {
   "cell_type": "code",
   "execution_count": null,
   "metadata": {},
   "outputs": [],
   "source": []
  },
  {
   "cell_type": "code",
   "execution_count": null,
   "metadata": {},
   "outputs": [],
   "source": []
  },
  {
   "cell_type": "markdown",
   "metadata": {},
   "source": [
    "___\n",
    "### Concluindo"
   ]
  },
  {
   "cell_type": "code",
   "execution_count": null,
   "metadata": {},
   "outputs": [],
   "source": []
  },
  {
   "cell_type": "code",
   "execution_count": null,
   "metadata": {},
   "outputs": [],
   "source": []
  },
  {
   "cell_type": "code",
   "execution_count": null,
   "metadata": {},
   "outputs": [],
   "source": []
  },
  {
   "cell_type": "markdown",
   "metadata": {},
   "source": [
    "___\n",
    "### Qualidade do Classificador a partir de novas separações dos tweets entre Treinamento e Teste\n",
    "\n",
    "Caso for fazer esse item do Projeto"
   ]
  },
  {
   "cell_type": "code",
   "execution_count": null,
   "metadata": {},
   "outputs": [],
   "source": []
  },
  {
   "cell_type": "code",
   "execution_count": null,
   "metadata": {},
   "outputs": [],
   "source": []
  },
  {
   "cell_type": "code",
   "execution_count": null,
   "metadata": {},
   "outputs": [],
   "source": []
  },
  {
   "cell_type": "markdown",
   "metadata": {},
   "source": [
    "___\n",
    "## Aperfeiçoamento:\n",
    "\n",
    "Trabalhos que conseguirem pelo menos conceito B vão evoluir em conceito dependendo da quantidade de itens avançados:\n",
    "\n",
    "* IMPLEMENTOU outras limpezas e transformações que não afetem a qualidade da informação contida nos tweets. Ex: stemming, lemmatization, stopwords\n",
    "* CORRIGIU separação de espaços entre palavras e emojis ou entre emojis e emojis\n",
    "* CRIOU categorias intermediárias de relevância baseadas na probabilidade: ex.: muito relevante, relevante, neutro, irrelevante, muito irrelevante. Pelo menos quatro categorias, com adição de mais tweets na base, conforme enunciado. (OBRIGATÓRIO PARA TRIOS, sem contar como item avançado)\n",
    "* EXPLICOU porquê não pode usar o próprio classificador para gerar mais amostras de treinamento\n",
    "* PROPÔS diferentes cenários para Naïve Bayes fora do contexto do projeto\n",
    "* SUGERIU e EXPLICOU melhorias reais com indicações concretas de como implementar (indicar como fazer e indicar material de pesquisa)\n",
    "* FEZ o item 6. Qualidade do Classificador a partir de novas separações dos tweets entre Treinamento e Teste descrito no enunciado do projeto (OBRIGATÓRIO para conceitos A ou A+)"
   ]
  },
  {
   "cell_type": "markdown",
   "metadata": {},
   "source": [
    "___\n",
    "## Referências"
   ]
  },
  {
   "cell_type": "markdown",
   "metadata": {},
   "source": [
    "[Naive Bayes and Text Classification](https://arxiv.org/pdf/1410.5329.pdf)  **Mais completo**\n",
    "\n",
    "[A practical explanation of a Naive Bayes Classifier](https://monkeylearn.com/blog/practical-explanation-naive-bayes-classifier/) **Mais simples**"
   ]
  },
  {
   "cell_type": "code",
   "execution_count": null,
   "metadata": {},
   "outputs": [],
   "source": []
  }
 ],
 "metadata": {
  "kernelspec": {
   "display_name": "Python 3",
   "language": "python",
   "name": "python3"
  },
  "language_info": {
   "codemirror_mode": {
    "name": "ipython",
    "version": 3
   },
   "file_extension": ".py",
   "mimetype": "text/x-python",
   "name": "python",
   "nbconvert_exporter": "python",
   "pygments_lexer": "ipython3",
   "version": "3.8.5"
  }
 },
 "nbformat": 4,
 "nbformat_minor": 4
}
